{
 "cells": [
  {
   "cell_type": "markdown",
   "metadata": {},
   "source": [
    "# 15-688 Practical Data Science, Tutorial Assignment \n",
    "#  Who will Die in the next season of GoT\n",
    "![got_title](https://upload.wikimedia.org/wikipedia/en/d/d8/Game_of_Thrones_title_card.jpg)\n",
    "\n",
    "## What is GoT?     \n",
    "**Game of Thrones** (GoT) is an American fantasy drama television series created by David Benioff and D. B. Weiss. It is an adaptation of A Song of Ice and Fire, George R. R. Martin's series of fantasy novels, the first of which is A Game of Thrones. It is filmed in Belfast and elsewhere in the United Kingdom, Canada, Croatia, Iceland, Malta, Morocco, Spain, and the United States. The series premiered on HBO in the United States on April 17, 2011, and its seventh season ended on August 27, 2017. The series will conclude with its eighth season premiering in 2019. ([site from Wikipedia](https://en.wikipedia.org/wiki/Game_of_Thrones))  \n",
    "\n",
    "## Goal of the tutorial\n",
    "Along with its exciting story, the numerous death of characters is also a characteristic of GoT series. This tutorial will predict which characters will die in the next season of GoT with some basic NLP techniques. \n",
    "\n",
    "## How to make the prediction?\n",
    "The prediction of this tutorial is based on the assumption that people with **similar personality** will have great possibility to end up in a same way. Thus we will fetch the personality text from the [**Fandom Wiki**](http://gameofthrones.wikia.com/wiki/Game_of_Thrones_Wiki) page. Then we will do word embedding to each text transform them to vectors in a high dimensional space. For each living charactor we will compare his vector, representing his personality, with the vectors from those dead character. Being more similiar to the dead characters leads to a higher possibility to be dead in the next season. In the later part of the tutorial, I will introduce how to achieve that goal in detail.\n",
    "\n",
    "## Library Preparation\n",
    "\n",
    "Most of later work in the tutorial is based on NLP, thus we need liararies to fetch text from html as well as do word embedding.\n",
    "1. [**Beatuiful Soup**](https://www.crummy.com/software/BeautifulSoup/bs4/doc/): A library used for fetching data from html.\n",
    "2. [**nltk**](https://www.nltk.org/): A library used for natural language processing. In this tutorial, we will use it to do text tokenization and remove stop words from the text.\n",
    "3. [**Gensim**](https://radimrehurek.com/gensim/): A library that realize unsupervised semantic modelling from plain text. In this tutorial, we will use it to do the word embedding to the plain text.\n",
    "**[Note]** we will use pre-trained word2vec [model](https://drive.google.com/file/d/0B7XkCwpI5KDYNlNUTTlSS21pQmM/edit) provided by [google](https://code.google.com/archive/p/word2vec/). It is a 1.5Gb binary file. If you want to run the code, you will need to download the file and place it in the same directory as this notebook.\n",
    "4. [**Scipy**](https://www.scipy.org/): A library used for scientific calculation in Python.\n",
    "5. [**tqdm**](https://github.com/tqdm/tqdm): A python library used for monitoring loop progress.\n",
    "\n",
    "Since we have already used Beautiful Soup, Scipy and nltk in the assignments, the installation will just be omitted. For Gensim and tqdm library you can just install it with pip.\n",
    "\n",
    "```\n",
    "pip install --upgrade gensim\n",
    "pip install tqdm\n",
    "```\n",
    "\n",
    "\n",
    "\n"
   ]
  },
  {
   "cell_type": "code",
   "execution_count": 1,
   "metadata": {
    "collapsed": true
   },
   "outputs": [],
   "source": [
    "from bs4 import BeautifulSoup\n",
    "import requests\n",
    "import gensim\n",
    "import nltk\n",
    "import string\n",
    "import scipy\n",
    "from nltk.corpus import stopwords\n",
    "from tqdm import tqdm"
   ]
  },
  {
   "cell_type": "markdown",
   "metadata": {},
   "source": [
    "# Fetching data from html\n",
    "\n",
    "After importing the libraries, we now need to fetch character information from the [**Fandom Wiki**](http://gameofthrones.wikia.com/wiki/Game_of_Thrones_Wiki) page. First we need to locate the infomation we need on the wiki page. Here is two sample screen shots of the character wiki.\n",
    "\n",
    "   | ![jon](wiki_sample1.png) | ![tywen](wiki_sample2.png) |\n",
    "   |--------------------------|----------------------------|\n",
    "\n",
    "We can find out that both of the wiki page contain the same structure (as highlighted):\n",
    "1. A url start with \"http://gameofthrones.wikia.com/wiki/\" followed by the full name of the character.\n",
    "2. A block of text describing the personality of the character.\n",
    "3. A table that contain the live or dead status of the character.\n",
    "\n",
    "\n",
    "Then we can inspect the html of the page and use Beautiful Soup to get the text we need.\n",
    "![sta_sample](status_sample.png)\n",
    "\n",
    "\n",
    "The highlighted html code is the part for the living status of the character.\n",
    "\n",
    "![psn_sample](personality_sample.png)\n",
    "\n",
    "\n",
    "For personality text we can find out that it is composed by multiple html pharagraph elements, we will append those element into a single python string."
   ]
  },
  {
   "cell_type": "markdown",
   "metadata": {},
   "source": [
    "Now we can implement our web pharser function to get the data and store them as a python dictionary.\n"
   ]
  },
  {
   "cell_type": "code",
   "execution_count": 2,
   "metadata": {
    "collapsed": true
   },
   "outputs": [],
   "source": [
    "def get_wiki_info(ch_list):\n",
    "    \"\"\"\n",
    "    This function fetchs character's personality text and living status from Fandom Wiki; returns a python\n",
    "    dictionary for the data as well as a list of names of dead characters.\n",
    "    \n",
    "    Args: \n",
    "        ch_list: a list of names from GoT series.\n",
    "        \n",
    "    Returns: tuple:(data, dead_list)\n",
    "        data: a python dictionary of dictionary. Using characters' names as key. For each entry, also a \n",
    "                dictionary, having 'personality', 'status' and 'name' as attributes.\n",
    "        dead_list: a list of strings representing the names of dead characters.\n",
    "    \"\"\"\n",
    "    data = {}\n",
    "    dead_list = []\n",
    "    #use tqdm to monitor the loop\n",
    "    for ch in tqdm(ch_list):\n",
    "        #get the corresponding Wiki page\n",
    "        url = 'http://gameofthrones.wikia.com/wiki/'+ch\n",
    "        res = requests.get(url)\n",
    "        root = BeautifulSoup(res.content,\"html.parser\")\n",
    "        #get the personnality text of the character\n",
    "        temp = root.find(id='Personality')\n",
    "        #if the character does not have a personality text just ignore him/her.\n",
    "        if temp == None:\n",
    "            continue\n",
    "        text = ''  \n",
    "        temp = temp.parent.findNextSibling()\n",
    "        text += temp.text\n",
    "        while True:\n",
    "            temp = temp.findNextSibling()\n",
    "            #fetch all text until a non <p> tag.(which means parser has reached the next section)\n",
    "            if (temp == None) or (temp.name != 'p'):\n",
    "                break\n",
    "            text += temp.text\n",
    "        #get the status of the character\n",
    "        status = root.find(text='Status')\n",
    "        #if the character does not have a status text just ignore him/her\n",
    "        if status == None:\n",
    "            continue\n",
    "        status = status.parent.findNextSibling('div')\n",
    "        if status == None:\n",
    "            continue\n",
    "        status = status.text\n",
    "        #if the character is not alive, add him/her into dead_list\n",
    "        if 'live' not in status:\n",
    "            dead_list.append(ch)\n",
    "        d = {}\n",
    "        d['name'] = ch\n",
    "        d['personality'] = text\n",
    "        d['status'] = status\n",
    "        data[ch] = d\n",
    "    return data, dead_list\n",
    "\n",
    "# load in character list\n",
    "def load_ch_list(fname):\n",
    "    \"\"\"\n",
    "    This function will take in string as the path of a file that contains the list of character names.\n",
    "    \n",
    "    Args:\n",
    "        fname: a string representing the path to the name list file.\n",
    "    \n",
    "    Return:\n",
    "        ch_list: a list of strings, each representing the name of a character\n",
    "    \"\"\"\n",
    "    ch_list = []\n",
    "    file = open(fname, 'r')\n",
    "    for ch in file:  \n",
    "        ch_list.append(ch.replace('\\n',''))\n",
    "    file.close()\n",
    "    return ch_list\n"
   ]
  },
  {
   "cell_type": "markdown",
   "metadata": {},
   "source": [
    "For convenience, I have listed all names from the series and stored them in the file called \"characters.txt\". We only need to call the previous funtions to fetch all the data we need. (it might take couple minutes to run the code)"
   ]
  },
  {
   "cell_type": "code",
   "execution_count": 3,
   "metadata": {},
   "outputs": [
    {
     "name": "stderr",
     "output_type": "stream",
     "text": [
      "100%|██████████| 905/905 [04:05<00:00,  3.69it/s]\n"
     ]
    }
   ],
   "source": [
    "ch_list = load_ch_list('characters.txt')\n",
    "data, dead_list = get_wiki_info(ch_list)"
   ]
  },
  {
   "cell_type": "markdown",
   "metadata": {},
   "source": [
    "Now we can peek the data we have collected. I successfully get 78 characters' status and personality texts from the wiki page. The following code the shows the data for the sample character \"Jon Snow\"."
   ]
  },
  {
   "cell_type": "code",
   "execution_count": 4,
   "metadata": {},
   "outputs": [
    {
     "name": "stdout",
     "output_type": "stream",
     "text": [
      "total num of characters: 78\n",
      "name Jon_Snow\n",
      "personality \n",
      "\"You are a Stark. You may not have my name, but you have my blood.\"\n",
      "―Eddard Stark to Jon before he leaves for the Night's Watch.[src]Because he was raised by Ned Stark at Winterfell, Jon has adopted a clear moral compass and a true sense of honor, which he tries his hardest to abide by even when he must make a difficult decision, especially after he became Lord Commander of the Night's Watch. He has always admired and idolized his father, but due to Catelyn Stark's cold disdain for Jon, Eddard was careful not to give him more attention than his lawful children by Catelyn. Lady Stark was never actively mean to Jon, but because he wasn't her own son she intentionally ignored him (as is common for bastard children), meaning that Jon grew up without a mother-figure. Nor did Jon consider Catelyn's behavior to be unusual or unexpected: it is rare for a noble to raise their bastard child alongside their lawful children, and his presence was a great insult to her honor. While his interactions with Catelyn remained awkward or nonexistent, he actually became good friends with his half-siblings, particularly Robb and Arya. Robb was of the same age as Jon so they became playmates and comrades in training, while due to her tomboyish personality Arya was also something of a social misfit like Jon, which they bonded over.\n",
      "Like many bastard children, Jon had to learn to grow up quickly. This made Jon mature and perceptive beyond his age, so he could navigate his complicated relationships within the Stark household. His bastard status has also made Jon something of a loner, solemn and somber with a desire to prove himself to society and to his father. Jon thought that the best way for a bastard in his position to gain honor and respect was to join the Night's Watch, emulating his uncle Benjen, because past social status is ignored after joining the Watch. Despite his introverted demeanor, Jon is very compassionate and protective of his fellow outcasts such as Samwell Tarly, Grenn, and Pyp.\n",
      "In many ways, Jon has been unusually lucky for a bastard child, given how rare it is for a lord to raise one in his own castle alongside his lawful children. For all of Jon's misgivings about not knowing his mother and Catelyn ignoring and shunning him, he was loved by his father and siblings, was never poor or hungry, but lived in a castle and had a noble's upbringing. Jon was formally educated by Maester Luwin and was trained in combat by Ser Rodrik Cassel, excelling at swordsmanship. This made Jon somewhat arrogant when he was a new recruit at Castle Black, until Tyrion pointed out that the other recruits were all far less fortunate than he was. This humbles Jon, and he changes his behavior to be the champion of the other downtrodden recruits, and helps train them by walking them through the swordplay techniques he knows.\n",
      "The Starks were an interfaith household, with Eddard and Catelyn's children being exposed to not only the religion of the Old Gods of the Forest worshiped by most Northmen, but also Catelyn's devout adherence to the Faith of the Seven. Because Jon had no real interaction with Catelyn, and revered his father Eddard, he was not exposed to the Seven but proudly keeps to the Old Gods, and honors the traditions of his First Men ancestors. When Jon took his vow to become a member of the Night's Watch, he chose to do so in front of a heart tree, sacred to the Old Gods.\n",
      "Jon is also fairly shy around women, and as he revealed to Samwell, he was a virgin when he joined the Night's Watch. While he was attractive enough, as a bastard son with nothing to inherit he had no realistic marriage prospects with noblewomen. Jon was even wary of having sex with random girls or prostitutes (as Theon did), because he was terrified of fathering a bastard of his own: having lived his life as a bastard, he felt that it wasn't a life another child should have to go through.\n",
      "However, death has changed Jon. Despite his honorable convictions and previous commitment to the Night's Watch, his experience of being murdered by his own men and then revived has made Jon far more cynical and nihilistic. No longer believing in himself and his ability to face the coming threat, due to being murdered for doing what he thought was right - Jon abandons the Night's Watch, despite knowing full well how dangerous the threat looming beyond the Wall really is. He loses his determination about fighting and becomes much more lonely and melancholic only speaking when he hasn't any other choice. Also, Jon feels remorse for hanging his former steward Olly, even though the latter did murder both him and the woman he loved. While he is wary of conflict since his return, his love for his family has brought him back into the fight. To this end, Jon chooses his family over the Night's Watch - a choice he once attempted to make when Robb marched off to war, but forsook in the past. When Ramsay decides to play a \"game\" with Rickon, Jon once again chooses his family by attempting to save his little brother's life, even at the cost of his own life and battle plans.\n",
      "\n",
      "status Alive (resurrected)\n"
     ]
    }
   ],
   "source": [
    "print('total num of characters:', len(data))\n",
    "#sample data point \n",
    "char = 'Jon_Snow'\n",
    "for key in data[char].keys():\n",
    "    print(key, data[char][key])"
   ]
  },
  {
   "cell_type": "markdown",
   "metadata": {},
   "source": [
    "# Text processing \n",
    "Already getting all the raw data, we then need to process the personality text to run a similarity calculation. This includes two steps, Tokenization and Word Embedding.\n",
    "\n",
    "## Tokenization\n",
    "\n",
    "The goal we need to achieve in this part is to transform a text string into a list of tokens (single words) and remove the stopwords (like \"the\", \"is\", \"are\"). Similiar to our previous assignment, we will first remove the punctuation from the text and use nltk library to do the tokenization and stopwords removing."
   ]
  },
  {
   "cell_type": "code",
   "execution_count": 5,
   "metadata": {
    "collapsed": true
   },
   "outputs": [],
   "source": [
    "def tokenization(text):\n",
    "    \"\"\"\n",
    "    This function takes a a string of text. Then tokenize it.\n",
    "    \n",
    "    Args:\n",
    "        text: a text string\n",
    "    Returns:\n",
    "        a list of tokens(words)\n",
    "    \"\"\"\n",
    "    stpwords = stopwords.words('english')\n",
    "    text = text.lower()\n",
    "    proc = ''\n",
    "    i = 0\n",
    "    while i < len(text):\n",
    "        c = text[i]\n",
    "        #remove punctuation\n",
    "        if c not in string.punctuation:\n",
    "            proc+=c\n",
    "        elif c == \"'\":\n",
    "            if i == (len(text)-1):\n",
    "                break\n",
    "            if text[i+1] == 's' and (i+2) == len(text):\n",
    "                break\n",
    "            if text[i+1] == 's' and text[i+2] == ' ':\n",
    "                i+=1\n",
    "        else:\n",
    "            proc+=' '\n",
    "        i+=1  \n",
    "    #tokenization by nltk\n",
    "    tokens = nltk.word_tokenize(proc)\n",
    "    #remove stop words in tokens\n",
    "    result = []\n",
    "    for word in tokens:\n",
    "        if word not in stpwords:\n",
    "            result.append(word)\n",
    "    return result"
   ]
  },
  {
   "cell_type": "code",
   "execution_count": 6,
   "metadata": {
    "collapsed": true
   },
   "outputs": [],
   "source": [
    "#tokenize the personality text of each character\n",
    "for name in data.keys():\n",
    "    tokens = tokenization(data[name]['personality'])\n",
    "    data[name]['tokens'] = tokens"
   ]
  },
  {
   "cell_type": "markdown",
   "metadata": {},
   "source": [
    "Now our data dictionary get a new column call 'tokens' which is the tokenized personnality text. Here is the sample tokens for character \"Jon Snow\""
   ]
  },
  {
   "cell_type": "code",
   "execution_count": 7,
   "metadata": {},
   "outputs": [
    {
     "name": "stdout",
     "output_type": "stream",
     "text": [
      "464\n",
      "['stark', 'may', 'name', 'blood', '―eddard', 'stark', 'jon', 'leaves', 'night', 'watch', 'src', 'raised', 'ned', 'stark', 'winterfell', 'jon', 'adopted', 'clear', 'moral', 'compass', 'true', 'sense', 'honor', 'tries', 'hardest', 'abide', 'even', 'must', 'make', 'difficult', 'decision', 'especially', 'became', 'lord', 'commander', 'night', 'watch', 'always', 'admired', 'idolized', 'father', 'due', 'catelyn', 'stark', 'cold', 'disdain', 'jon', 'eddard', 'careful', 'give', 'attention', 'lawful', 'children', 'catelyn', 'lady', 'stark', 'never', 'actively', 'mean', 'jon', 'wasnt', 'son', 'intentionally', 'ignored', 'common', 'bastard', 'children', 'meaning', 'jon', 'grew', 'without', 'mother', 'figure', 'jon', 'consider', 'catelyn', 'behavior', 'unusual', 'unexpected', 'rare', 'noble', 'raise', 'bastard', 'child', 'alongside', 'lawful', 'children', 'presence', 'great', 'insult', 'honor', 'interactions', 'catelyn', 'remained', 'awkward', 'nonexistent', 'actually', 'became', 'good', 'friends', 'half', 'siblings', 'particularly', 'robb', 'arya', 'robb', 'age', 'jon', 'became', 'playmates', 'comrades', 'training', 'due', 'tomboyish', 'personality', 'arya', 'also', 'something', 'social', 'misfit', 'like', 'jon', 'bonded', 'like', 'many', 'bastard', 'children', 'jon', 'learn', 'grow', 'quickly', 'made', 'jon', 'mature', 'perceptive', 'beyond', 'age', 'could', 'navigate', 'complicated', 'relationships', 'within', 'stark', 'household', 'bastard', 'status', 'also', 'made', 'jon', 'something', 'loner', 'solemn', 'somber', 'desire', 'prove', 'society', 'father', 'jon', 'thought', 'best', 'way', 'bastard', 'position', 'gain', 'honor', 'respect', 'join', 'night', 'watch', 'emulating', 'uncle', 'benjen', 'past', 'social', 'status', 'ignored', 'joining', 'watch', 'despite', 'introverted', 'demeanor', 'jon', 'compassionate', 'protective', 'fellow', 'outcasts', 'samwell', 'tarly', 'grenn', 'pyp', 'many', 'ways', 'jon', 'unusually', 'lucky', 'bastard', 'child', 'given', 'rare', 'lord', 'raise', 'one', 'castle', 'alongside', 'lawful', 'children', 'jon', 'misgivings', 'knowing', 'mother', 'catelyn', 'ignoring', 'shunning', 'loved', 'father', 'siblings', 'never', 'poor', 'hungry', 'lived', 'castle', 'noble', 'upbringing', 'jon', 'formally', 'educated', 'maester', 'luwin', 'trained', 'combat', 'ser', 'rodrik', 'cassel', 'excelling', 'swordsmanship', 'made', 'jon', 'somewhat', 'arrogant', 'new', 'recruit', 'castle', 'black', 'tyrion', 'pointed', 'recruits', 'far', 'less', 'fortunate', 'humbles', 'jon', 'changes', 'behavior', 'champion', 'downtrodden', 'recruits', 'helps', 'train', 'walking', 'swordplay', 'techniques', 'knows', 'starks', 'interfaith', 'household', 'eddard', 'catelyn', 'children', 'exposed', 'religion', 'old', 'gods', 'forest', 'worshiped', 'northmen', 'also', 'catelyn', 'devout', 'adherence', 'faith', 'seven', 'jon', 'real', 'interaction', 'catelyn', 'revered', 'father', 'eddard', 'exposed', 'seven', 'proudly', 'keeps', 'old', 'gods', 'honors', 'traditions', 'first', 'men', 'ancestors', 'jon', 'took', 'vow', 'become', 'member', 'night', 'watch', 'chose', 'front', 'heart', 'tree', 'sacred', 'old', 'gods', 'jon', 'also', 'fairly', 'shy', 'around', 'women', 'revealed', 'samwell', 'virgin', 'joined', 'night', 'watch', 'attractive', 'enough', 'bastard', 'son', 'nothing', 'inherit', 'realistic', 'marriage', 'prospects', 'noblewomen', 'jon', 'even', 'wary', 'sex', 'random', 'girls', 'prostitutes', 'theon', 'terrified', 'fathering', 'bastard', 'lived', 'life', 'bastard', 'felt', 'wasnt', 'life', 'another', 'child', 'go', 'however', 'death', 'changed', 'jon', 'despite', 'honorable', 'convictions', 'previous', 'commitment', 'night', 'watch', 'experience', 'murdered', 'men', 'revived', 'made', 'jon', 'far', 'cynical', 'nihilistic', 'longer', 'believing', 'ability', 'face', 'coming', 'threat', 'due', 'murdered', 'thought', 'right', 'jon', 'abandons', 'night', 'watch', 'despite', 'knowing', 'full', 'well', 'dangerous', 'threat', 'looming', 'beyond', 'wall', 'really', 'loses', 'determination', 'fighting', 'becomes', 'much', 'lonely', 'melancholic', 'speaking', 'hasnt', 'choice', 'also', 'jon', 'feels', 'remorse', 'hanging', 'former', 'steward', 'olly', 'even', 'though', 'latter', 'murder', 'woman', 'loved', 'wary', 'conflict', 'since', 'return', 'love', 'family', 'brought', 'back', 'fight', 'end', 'jon', 'chooses', 'family', 'night', 'watch', 'choice', 'attempted', 'make', 'robb', 'marched', 'war', 'forsook', 'past', 'ramsay', 'decides', 'play', 'game', 'rickon', 'jon', 'chooses', 'family', 'attempting', 'save', 'little', 'brother', 'life', 'even', 'cost', 'life', 'battle', 'plans']\n"
     ]
    }
   ],
   "source": [
    "print(len(data[char]['tokens']))\n",
    "print(data[char]['tokens'])"
   ]
  },
  {
   "cell_type": "markdown",
   "metadata": {},
   "source": [
    "## Word Embedding \n",
    "\n",
    "Now we can use those tokens to get vectors for the personality texts with word embedding techniques. We will get the vector for each token with [**word2vec**](https://code.google.com/archive/p/word2vec/), then we add them up to get the vector that representing the whole text. \n",
    "\n",
    "### pre-trained model\n",
    "To get a model to do word embedding is a huge amount of workload. Thus, we will just use the [**pre-train model**](https://drive.google.com/file/d/0B7XkCwpI5KDYNlNUTTlSS21pQmM/edit) provided by google. (If you want to run the code, you need to **download it by yourself**. Putting it in the **same directory** as this notebook and name it as \"**GoogleNews-vectors-negative300.bin**\") It is a 1.5 Gb binary file loading it require a 64-bit machine and at least 4Gb memory. Here is a small sample showing how to load and use it with gensim. "
   ]
  },
  {
   "cell_type": "code",
   "execution_count": 8,
   "metadata": {
    "collapsed": true
   },
   "outputs": [],
   "source": [
    "#load google word2vec model\n",
    "model = gensim.models.KeyedVectors.load_word2vec_format('GoogleNews-vectors-negative300.bin', binary=True)"
   ]
  },
  {
   "cell_type": "code",
   "execution_count": 9,
   "metadata": {},
   "outputs": [
    {
     "name": "stdout",
     "output_type": "stream",
     "text": [
      "heroic valiant 0.6859648230509401\n",
      "0.685964822769165\n"
     ]
    }
   ],
   "source": [
    "# sample of using the model\n",
    "w1 = 'heroic'\n",
    "w2 = 'valiant'\n",
    "#directly get the vector representaion of the word\n",
    "x = model[w1]\n",
    "y = model[w2]\n",
    "#similarity calculation by gensim \n",
    "print(w1, w2, model.similarity(w1, w2))\n",
    "#similarity calculation by scipy\n",
    "print(1- scipy.spatial.distance.cosine(x,y))"
   ]
  },
  {
   "cell_type": "code",
   "execution_count": 94,
   "metadata": {
    "collapsed": true
   },
   "outputs": [],
   "source": []
  },
  {
   "cell_type": "code",
   "execution_count": 10,
   "metadata": {
    "collapsed": true
   },
   "outputs": [],
   "source": [
    "def embedding(tokens, model):\n",
    "    \"\"\"\n",
    "    This function takes a list of tokens(words), and a pretrained word2vec model in gensim.\n",
    "        Then transform the tokens into a single vector.\n",
    "    Args: \n",
    "        tokens: a list of string representing the tokens\n",
    "        model: a pretrained word2vec gensim model\n",
    "    returns:\n",
    "        vec: a np array representing the tokens.\n",
    "    \"\"\"\n",
    "    vec = None\n",
    "    for word in tokens:\n",
    "        #if the model does not contain the word. just skip it\n",
    "        if word not in model.vocab:\n",
    "            continue\n",
    "        if type(vec) != type(None):\n",
    "            vec = vec + model[word]\n",
    "        else:\n",
    "            vec = model[word]\n",
    "    return vec"
   ]
  },
  {
   "cell_type": "code",
   "execution_count": 11,
   "metadata": {
    "collapsed": true
   },
   "outputs": [],
   "source": [
    "#getting personality vector for each character\n",
    "for name in data.keys():\n",
    "    data[name]['vec'] = embedding(data[name]['tokens'], model)"
   ]
  },
  {
   "cell_type": "code",
   "execution_count": 12,
   "metadata": {},
   "outputs": [
    {
     "name": "stdout",
     "output_type": "stream",
     "text": [
      "<class 'numpy.ndarray'>\n",
      "[ 23.165459    29.58895      5.9385414   33.114426   -18.410688\n",
      "   5.4663544   11.406567   -36.634567    39.979927    29.939775\n",
      "  17.070171   -62.735992   -10.708048    15.202353   -44.0137\n",
      "  35.17154     18.52655     54.492424    -7.2010117  -14.7512245\n",
      "  -5.4111686   12.598007    23.426144     8.016315    10.762899\n",
      " -47.51425    -35.41417     34.715725    18.759268   -12.267889\n",
      "  10.610996    -2.1443381  -13.194986     8.172197     3.968193\n",
      "  -5.5621147   29.354519     0.06894732   6.0522385   15.829994\n",
      "  44.59671    -21.15451     49.114746   -17.739769     6.9366217\n",
      "  -8.288228   -24.914143     4.660141    -8.577812   -10.728855\n",
      " -16.011852    20.972815    -8.598244    -4.2051773    0.66635084\n",
      "   2.9211783  -34.421616   -27.888428    -2.934435   -26.126633\n",
      "   0.44540977  46.49852    -26.19762    -24.48819    -15.018839\n",
      "   2.2421265  -13.048817    22.312607   -25.035772    25.263132\n",
      "  26.582825    12.373302     3.526081    24.202202   -54.247726\n",
      " -19.894016    22.908516    32.10785     31.961151    37.069958\n",
      "   3.841011     5.2027626   -9.585924    -8.747566   -20.03231\n",
      " -14.360939   -40.094437    35.59495     17.12515      3.480568\n",
      "  13.849443   -11.365448   -22.630047   -23.726364    -4.9885464\n",
      " -15.729914    18.73895     16.927464    17.484344   -33.746643\n",
      " -25.662521    -4.8127327   14.101173     5.625042   -11.469215\n",
      " -28.160448    -7.0316925   -2.390602    16.839907   -11.309841\n",
      " -18.23967      3.819601     7.307329     5.409066    33.149155\n",
      "  -1.4500713   13.408577   -22.391212    30.126595    24.513744\n",
      " -33.642822    25.298203   -11.516596    11.614571   -17.25394\n",
      " -15.430134   -16.810059    -9.801998    12.61351      5.132019\n",
      " -22.126793   -35.22812    -18.167187    18.266819    -6.785202\n",
      "  -9.838615    -2.7764397   13.007758     9.958754    22.96\n",
      "  22.73326    -18.664108    -5.009781     4.581909     5.9913177\n",
      "  31.755653   -19.294       -9.422562   -13.546242   -16.846872\n",
      "  47.48449     12.805368   -30.26181     13.358849   -25.385586\n",
      "  -8.406307   -14.966692   -25.227219    -7.0164833  -35.103615\n",
      "  -1.8421555   25.752874    31.404629    15.502014   -10.719086\n",
      " -47.334366    28.885422   -21.00206     -9.170158    11.159103\n",
      " -29.230373   -10.019101     1.8959999  -40.379208     7.4597454\n",
      "   9.143757    28.878052   -21.521694     2.0265656   -6.939966\n",
      " -22.323092   -32.568108     8.70491      0.84968615 -17.890366\n",
      "  -4.7626343   -6.6540995   -2.4791603   24.302994    20.562176\n",
      "   7.5957108   12.81496     14.12785     10.154404    -2.6972275\n",
      "  30.390942     2.2547777    3.4084854  -25.015337   -20.586943\n",
      "  -9.012532    13.628271   -16.960548   -37.647984    20.461372\n",
      " -21.847786    -9.2621975   -0.4222641  -12.894417   -22.718931\n",
      " -30.852806    23.681522     1.5203018   -4.2755766  -31.8951\n",
      "  -3.0826607   23.32882     -2.5833855  -40.335423    -0.5042572\n",
      "  -1.2759812    3.6326675   16.951923     2.7851715   23.603727\n",
      " -31.111279    39.181755     5.549467     8.211717    -7.4303355\n",
      "   0.53881836 -15.29878     -2.3522186    9.236847    40.425323\n",
      "  -5.1382065    5.522085   -43.131096    19.901543    13.665604\n",
      "  15.525276   -20.807114    -9.97461    -18.266212   -21.721527\n",
      "  21.252773     4.892071    15.3498     -10.51358    -31.444954\n",
      "  11.191843    17.252499    21.89738     26.06865     17.062378\n",
      " -23.162712     3.923791     0.9507065  -32.52539    -10.333008\n",
      "  -4.7180977   -5.833333   -12.75404     18.440456    18.46886\n",
      "  57.130825   -10.586575    -4.1584396  -29.62616      1.919445\n",
      "  -2.0113869   18.767483    29.157288    12.942047    33.728294\n",
      " -38.65537    -33.741074   -16.314316   -28.591202    20.218302\n",
      "  27.4291     -12.5102215    8.162983    17.242867     1.9097061\n",
      "  -3.7080555  -38.201332    14.685158    12.710697    20.368813\n",
      " -28.370335    18.491703   -41.57208     -2.4600754  -33.96048\n",
      " -14.711014     3.6331806  -25.224566     9.250458    12.841019  ]\n"
     ]
    }
   ],
   "source": [
    "#sample personality vector for \"Jon Snow\"\n",
    "print(type(data[char]['vec']))\n",
    "print(data[char]['vec'])"
   ]
  },
  {
   "cell_type": "markdown",
   "metadata": {},
   "source": [
    "# Similarity Calculation\n",
    "\n",
    "Since we have got all the elements we need, we can proceed to get the similarity between two characters by calculating the [**cosine similarity**](https://en.wikipedia.org/wiki/Cosine_similarity) of their personality vectors."
   ]
  },
  {
   "cell_type": "code",
   "execution_count": 13,
   "metadata": {
    "collapsed": true
   },
   "outputs": [],
   "source": [
    "def get_similar_list(data):\n",
    "    \"\"\"\n",
    "    This function takes in the preprocessed data dictionary and add a new column for each character\n",
    "        called simi_list, representing the similarity between him/her with other characters.\n",
    "        \n",
    "    Args: \n",
    "        data: preprocessed python dictionary\n",
    "    Returns\n",
    "        data: same dictionary with an additional column in each entry.\n",
    "    \"\"\"\n",
    "    for name in data.keys():\n",
    "        x = data[name]['vec']\n",
    "        s = []\n",
    "        for key in data.keys():\n",
    "            y = data[key]['vec']\n",
    "            #append the name and similarity value to the list\n",
    "            s.append((key, 1-scipy.spatial.distance.cosine(x,y)))\n",
    "        #sort the list in desending order\n",
    "        s.sort(key=lambda x: x[1], reverse = True)\n",
    "        data[name]['simi_list'] = s[1:]\n",
    "    return data\n",
    "\n",
    "\n",
    "data = get_similar_list(data)"
   ]
  },
  {
   "cell_type": "markdown",
   "metadata": {},
   "source": [
    "## Similarity Results\n",
    "\n",
    "Having get all similarity values between each character, we can check result for some characters. The following table is made from the similarity value of Character Jon Snow.\n",
    "\n",
    "### Jon Snow's Similarity\n",
    "![Jon](https://vignette.wikia.nocookie.net/gameofthrones/images/a/a5/Profile-JonSnow-707.png/revision/latest?cb=20170828030553)\n",
    "\n",
    " |          Name          | Similarity Value    | Actual Relation with the character|\n",
    " | ---------------------- | ------------------- | --------------------------------------------------- |\n",
    " |  Sansa Stark | 0.953 | \"Sister\" of Jon, lived together since young  |\n",
    " |  Gendry |  0.936  |  Both are \"bastard\", brave and loyal |\n",
    " |  Samwell Tarly |  0.934  | Both are Nights' Watch, fight against white walkers |\n",
    " |  Cersei Lannister | 0.618 | Really have nothing in common|\n",
    "\n",
    "We can see from the table that the similarity results are quite accurate according to our expectations. The following code plots the similarity value of five characters that are most similiar to Jon Snow."
   ]
  },
  {
   "cell_type": "code",
   "execution_count": 14,
   "metadata": {},
   "outputs": [
    {
     "name": "stdout",
     "output_type": "stream",
     "text": [
      "Sansa_Stark 0.9529415965080261\n",
      "Gendry 0.938775897026062\n",
      "Jaime_Lannister 0.9355757832527161\n",
      "Samwell_Tarly 0.934771716594696\n",
      "Davos_Seaworth 0.9321074485778809\n"
     ]
    },
    {
     "data": {
      "image/png": "[encoded data removed]",
      "text/plain": [
       "<matplotlib.figure.Figure at 0x22fc7a2b0>"
      ]
     },
     "metadata": {},
     "output_type": "display_data"
    }
   ],
   "source": [
    "import matplotlib.pyplot as plt\n",
    "char = 'Jon_Snow'\n",
    "x = []\n",
    "y = []\n",
    "for i in range(5):\n",
    "    x.append(data[char]['simi_list'][i][0])\n",
    "    y.append(data[char]['simi_list'][i][1])\n",
    "    print(x[i], y[i])\n",
    "plt.barh(range(len(x)), y, color = 'b')\n",
    "plt.yticks(range(len(x)),x)\n",
    "plt.xlim(0.9, 1.0)\n",
    "plt.title(\"Similarity with \"+char)\n",
    "plt.grid()\n",
    "plt.show()"
   ]
  },
  {
   "cell_type": "markdown",
   "metadata": {},
   "source": [
    "# Final prediction\n",
    "\n",
    "Finally, we can use the similarity values to find out who is the most similiar to dead characters. We will get the mean value of a character's similarity to all dead characters. The higher the mean score gets, the more similar they are to dead characters and have a higher possiblity to be dead in the next season."
   ]
  },
  {
   "cell_type": "code",
   "execution_count": 15,
   "metadata": {
    "collapsed": true
   },
   "outputs": [],
   "source": [
    "def get_similarity_to_deads(data, dead_list):\n",
    "    \"\"\"\n",
    "    this function calculate the similarity value to dead characters and append the result\n",
    "        to the original dictionary.\n",
    "    Args:\n",
    "        data: python dictionary. the processed data dict\n",
    "        dead_list: a list of strings. representing the name of dead characters\n",
    "    Returns:\n",
    "        data: original data dict with additional column.\n",
    "    \n",
    "    \"\"\"\n",
    "    for name in data.keys():    \n",
    "        data[name]['simi_to_dead'] = 0\n",
    "        #skip the already dead characters\n",
    "        if 'live' not in data[name]['status']:\n",
    "            continue\n",
    "        #get the similarity to deads\n",
    "        for n, simi in data[name]['simi_list']:\n",
    "            if n in dead_list:\n",
    "                data[name]['simi_to_dead'] += simi\n",
    "        data[name]['simi_to_dead'] /= len(dead_list)\n",
    "    return data\n",
    "\n",
    "data = get_similarity_to_deads(data, dead_list)"
   ]
  },
  {
   "cell_type": "code",
   "execution_count": 16,
   "metadata": {
    "collapsed": true
   },
   "outputs": [],
   "source": [
    "\n",
    "pos_dead_list = []\n",
    "for key in data.keys():\n",
    "    pos_dead_list.append((key, data[key]['simi_to_dead']))\n",
    "pos_dead_list.sort(key=lambda x: x[1], reverse = True)\n"
   ]
  },
  {
   "cell_type": "code",
   "execution_count": 17,
   "metadata": {},
   "outputs": [
    {
     "name": "stdout",
     "output_type": "stream",
     "text": [
      "Jaime_Lannister 0.8917776025258578\n",
      "Tyrion_Lannister 0.8815246912149283\n",
      "Sandor_Clegane 0.8794907480478287\n",
      "Davos_Seaworth 0.8787579914698234\n",
      "Gendry 0.8759486812811631\n",
      "Theon_Greyjoy 0.8738528593228414\n",
      "Euron_Greyjoy 0.8730627871476687\n",
      "Melisandre 0.8716663844310321\n",
      "Ellaria_Sand 0.8696064731249442\n",
      "Jorah_Mormont 0.868527447948089\n",
      "Tormund 0.8660301875609618\n",
      "Sansa_Stark 0.8655548302026895\n",
      "Brienne_of_Tarth 0.8636855918627518\n",
      "Qyburn 0.8631894152898055\n",
      "Yara_Greyjoy 0.8609222551951041\n",
      "Jon_Snow 0.85592554968137\n",
      "Samwell_Tarly 0.8554722907451483\n",
      "Arya_Stark 0.8530378164007113\n",
      "Bran_Stark 0.8479280368639872\n",
      "Robin_Arryn 0.838019569332783\n",
      "Bronn 0.8313157226030643\n",
      "Wolkan 0.8256011318701965\n",
      "Ilyn_Payne 0.820197385091048\n",
      "Daenerys_Targaryen 0.7615419162007478\n",
      "Varys 0.6899138666116275\n",
      "Cersei_Lannister 0.5695132876817997\n"
     ]
    },
    {
     "data": {
      "image/png": "[encoded data removed]",
      "text/plain": [
       "<matplotlib.figure.Figure at 0x230939fd0>"
      ]
     },
     "metadata": {},
     "output_type": "display_data"
    }
   ],
   "source": [
    "x = []\n",
    "y = []\n",
    "for i in pos_dead_list:\n",
    "    if i[1] == 0:\n",
    "        break\n",
    "    x.append(i[0])\n",
    "    y.append(i[1])\n",
    "    print(i[0], i[1])\n",
    "plt.figure(figsize=(10, 10))\n",
    "plt.barh(range(len(x)), y, color = 'b')\n",
    "plt.yticks(range(len(x)),x)\n",
    "plt.xlim(0.5, 1.0)\n",
    "plt.title(\"Possible Death List\")\n",
    "plt.gca().invert_yaxis()\n",
    "plt.grid()\n",
    "plt.show()"
   ]
  },
  {
   "cell_type": "markdown",
   "metadata": {},
   "source": [
    "# Final Results\n",
    "From the previous plot we can get our predction results:\n",
    "## The most possible character to be Dead: Jaime Lannister\n",
    "![Jaime](https://vignette.wikia.nocookie.net/gameofthrones/images/e/eb/Jaime.jpg/revision/latest/scale-to-width-down/296?cb=20170818052054)\n",
    "\n",
    "\n",
    "## The least possible character to be Dead: Cersei Lannister\n",
    "![Cersei](https://vignette.wikia.nocookie.net/gameofthrones/images/c/c3/Profile-CerseiLannister.png/revision/latest/scale-to-width-down/323?cb=20170828071355)\n",
    "\n"
   ]
  },
  {
   "cell_type": "markdown",
   "metadata": {},
   "source": [
    "# Summary and Reference\n",
    "The result is a kind of prediction by my naive assumption. After all, it's not strange for any character to be dead in GoT. The main goal of this tutorial is learn a complete process from information fetching and processing, to word embedding and similarity calculation. Thanks for [Fandom](http://fandom.wikia.com/) for providing such a great wiki page for fans like me. For further details of the libraries used, please refer to their offical document.\n",
    "\n",
    "1. [**Fandom Wiki**]: http://fandom.wikia.com/\n",
    "2. [**Beatuiful Soup**]: https://www.crummy.com/software/BeautifulSoup/bs4/doc/\n",
    "2. [**nltk**]: https://www.nltk.org/\n",
    "3. [**Gensim**]: https://radimrehurek.com/gensim/\n",
    "4. [**Google word2vec project**]: https://code.google.com/archive/p/word2vec/\n",
    "5. [**Scipy**]: https://www.scipy.org/\n",
    "6. [**tqdm**]: https://github.com/tqdm/tqdm"
   ]
  },
  {
   "cell_type": "code",
   "execution_count": null,
   "metadata": {
    "collapsed": true
   },
   "outputs": [],
   "source": []
  }
 ],
 "metadata": {
  "kernelspec": {
   "display_name": "Python 3",
   "language": "python",
   "name": "python3"
  },
  "language_info": {
   "codemirror_mode": {
    "name": "ipython",
    "version": 3
   },
   "file_extension": ".py",
   "mimetype": "text/x-python",
   "name": "python",
   "nbconvert_exporter": "python",
   "pygments_lexer": "ipython3",
   "version": "3.6.3"
  }
 },
 "nbformat": 4,
 "nbformat_minor": 2
}
